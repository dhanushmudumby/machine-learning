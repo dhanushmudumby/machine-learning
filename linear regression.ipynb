{
 "cells": [
  {
   "cell_type": "code",
   "execution_count": 22,
   "id": "5da6e480",
   "metadata": {},
   "outputs": [],
   "source": [
    "import pandas as pd\n",
    "import matplotlib.pyplot as plt\n",
    "import numpy as np\n",
    "from sklearn import linear_model"
   ]
  },
  {
   "cell_type": "code",
   "execution_count": 23,
   "id": "ed920d09",
   "metadata": {},
   "outputs": [],
   "source": [
    "df=pd.read_csv('car data.csv')"
   ]
  },
  {
   "cell_type": "code",
   "execution_count": 24,
   "id": "4b2fd42f",
   "metadata": {},
   "outputs": [
    {
     "data": {
      "text/html": [
       "<div>\n",
       "<style scoped>\n",
       "    .dataframe tbody tr th:only-of-type {\n",
       "        vertical-align: middle;\n",
       "    }\n",
       "\n",
       "    .dataframe tbody tr th {\n",
       "        vertical-align: top;\n",
       "    }\n",
       "\n",
       "    .dataframe thead th {\n",
       "        text-align: right;\n",
       "    }\n",
       "</style>\n",
       "<table border=\"1\" class=\"dataframe\">\n",
       "  <thead>\n",
       "    <tr style=\"text-align: right;\">\n",
       "      <th></th>\n",
       "      <th>Car_Name</th>\n",
       "      <th>Year</th>\n",
       "      <th>Selling_Price</th>\n",
       "      <th>Present_Price</th>\n",
       "      <th>Kms_Driven</th>\n",
       "      <th>Fuel_Type</th>\n",
       "      <th>Seller_Type</th>\n",
       "      <th>Transmission</th>\n",
       "      <th>Owner</th>\n",
       "    </tr>\n",
       "  </thead>\n",
       "  <tbody>\n",
       "    <tr>\n",
       "      <th>0</th>\n",
       "      <td>ritz</td>\n",
       "      <td>2014</td>\n",
       "      <td>3.35</td>\n",
       "      <td>5.59</td>\n",
       "      <td>27000</td>\n",
       "      <td>Petrol</td>\n",
       "      <td>Dealer</td>\n",
       "      <td>Manual</td>\n",
       "      <td>0</td>\n",
       "    </tr>\n",
       "    <tr>\n",
       "      <th>1</th>\n",
       "      <td>sx4</td>\n",
       "      <td>2013</td>\n",
       "      <td>4.75</td>\n",
       "      <td>9.54</td>\n",
       "      <td>43000</td>\n",
       "      <td>Diesel</td>\n",
       "      <td>Dealer</td>\n",
       "      <td>Manual</td>\n",
       "      <td>0</td>\n",
       "    </tr>\n",
       "    <tr>\n",
       "      <th>2</th>\n",
       "      <td>ciaz</td>\n",
       "      <td>2017</td>\n",
       "      <td>7.25</td>\n",
       "      <td>9.85</td>\n",
       "      <td>6900</td>\n",
       "      <td>Petrol</td>\n",
       "      <td>Dealer</td>\n",
       "      <td>Manual</td>\n",
       "      <td>0</td>\n",
       "    </tr>\n",
       "    <tr>\n",
       "      <th>3</th>\n",
       "      <td>wagon r</td>\n",
       "      <td>2011</td>\n",
       "      <td>2.85</td>\n",
       "      <td>4.15</td>\n",
       "      <td>5200</td>\n",
       "      <td>Petrol</td>\n",
       "      <td>Dealer</td>\n",
       "      <td>Manual</td>\n",
       "      <td>0</td>\n",
       "    </tr>\n",
       "  </tbody>\n",
       "</table>\n",
       "</div>"
      ],
      "text/plain": [
       "  Car_Name  Year  Selling_Price  Present_Price  Kms_Driven Fuel_Type  \\\n",
       "0     ritz  2014           3.35           5.59       27000    Petrol   \n",
       "1      sx4  2013           4.75           9.54       43000    Diesel   \n",
       "2     ciaz  2017           7.25           9.85        6900    Petrol   \n",
       "3  wagon r  2011           2.85           4.15        5200    Petrol   \n",
       "\n",
       "  Seller_Type Transmission  Owner  \n",
       "0      Dealer       Manual      0  \n",
       "1      Dealer       Manual      0  \n",
       "2      Dealer       Manual      0  \n",
       "3      Dealer       Manual      0  "
      ]
     },
     "execution_count": 24,
     "metadata": {},
     "output_type": "execute_result"
    }
   ],
   "source": [
    "df.head(4)"
   ]
  },
  {
   "cell_type": "code",
   "execution_count": 25,
   "id": "9e71862c",
   "metadata": {},
   "outputs": [],
   "source": [
    "data=df.drop('Car_Name',axis=1)"
   ]
  },
  {
   "cell_type": "code",
   "execution_count": 26,
   "id": "321eb9c9",
   "metadata": {},
   "outputs": [
    {
     "data": {
      "text/html": [
       "<div>\n",
       "<style scoped>\n",
       "    .dataframe tbody tr th:only-of-type {\n",
       "        vertical-align: middle;\n",
       "    }\n",
       "\n",
       "    .dataframe tbody tr th {\n",
       "        vertical-align: top;\n",
       "    }\n",
       "\n",
       "    .dataframe thead th {\n",
       "        text-align: right;\n",
       "    }\n",
       "</style>\n",
       "<table border=\"1\" class=\"dataframe\">\n",
       "  <thead>\n",
       "    <tr style=\"text-align: right;\">\n",
       "      <th></th>\n",
       "      <th>Year</th>\n",
       "      <th>Selling_Price</th>\n",
       "      <th>Present_Price</th>\n",
       "      <th>Kms_Driven</th>\n",
       "      <th>Fuel_Type</th>\n",
       "      <th>Seller_Type</th>\n",
       "      <th>Transmission</th>\n",
       "      <th>Owner</th>\n",
       "    </tr>\n",
       "  </thead>\n",
       "  <tbody>\n",
       "    <tr>\n",
       "      <th>0</th>\n",
       "      <td>2014</td>\n",
       "      <td>3.35</td>\n",
       "      <td>5.59</td>\n",
       "      <td>27000</td>\n",
       "      <td>Petrol</td>\n",
       "      <td>Dealer</td>\n",
       "      <td>Manual</td>\n",
       "      <td>0</td>\n",
       "    </tr>\n",
       "    <tr>\n",
       "      <th>1</th>\n",
       "      <td>2013</td>\n",
       "      <td>4.75</td>\n",
       "      <td>9.54</td>\n",
       "      <td>43000</td>\n",
       "      <td>Diesel</td>\n",
       "      <td>Dealer</td>\n",
       "      <td>Manual</td>\n",
       "      <td>0</td>\n",
       "    </tr>\n",
       "    <tr>\n",
       "      <th>2</th>\n",
       "      <td>2017</td>\n",
       "      <td>7.25</td>\n",
       "      <td>9.85</td>\n",
       "      <td>6900</td>\n",
       "      <td>Petrol</td>\n",
       "      <td>Dealer</td>\n",
       "      <td>Manual</td>\n",
       "      <td>0</td>\n",
       "    </tr>\n",
       "  </tbody>\n",
       "</table>\n",
       "</div>"
      ],
      "text/plain": [
       "   Year  Selling_Price  Present_Price  Kms_Driven Fuel_Type Seller_Type  \\\n",
       "0  2014           3.35           5.59       27000    Petrol      Dealer   \n",
       "1  2013           4.75           9.54       43000    Diesel      Dealer   \n",
       "2  2017           7.25           9.85        6900    Petrol      Dealer   \n",
       "\n",
       "  Transmission  Owner  \n",
       "0       Manual      0  \n",
       "1       Manual      0  \n",
       "2       Manual      0  "
      ]
     },
     "execution_count": 26,
     "metadata": {},
     "output_type": "execute_result"
    }
   ],
   "source": [
    "data.head(3)"
   ]
  },
  {
   "cell_type": "code",
   "execution_count": 27,
   "id": "18ebe993",
   "metadata": {},
   "outputs": [
    {
     "data": {
      "text/plain": [
       "45000    9\n",
       "15000    9\n",
       "35000    5\n",
       "25000    5\n",
       "50000    5\n",
       "        ..\n",
       "56001    1\n",
       "21700    1\n",
       "13000    1\n",
       "4300     1\n",
       "44542    1\n",
       "Name: Kms_Driven, Length: 206, dtype: int64"
      ]
     },
     "execution_count": 27,
     "metadata": {},
     "output_type": "execute_result"
    }
   ],
   "source": [
    "data['Kms_Driven'].value_counts()"
   ]
  },
  {
   "cell_type": "code",
   "execution_count": 28,
   "id": "b3f0614d",
   "metadata": {},
   "outputs": [],
   "source": [
    "X=data['Kms_Driven'].values\n",
    "Y=data['Selling_Price'].values"
   ]
  },
  {
   "cell_type": "code",
   "execution_count": 29,
   "id": "80a1202e",
   "metadata": {},
   "outputs": [
    {
     "data": {
      "text/plain": [
       "<matplotlib.collections.PathCollection at 0x16cff1bb550>"
      ]
     },
     "execution_count": 29,
     "metadata": {},
     "output_type": "execute_result"
    },
    {
     "data": {
      "image/png": "[encoded data removed]",
      "text/plain": [
       "<Figure size 432x288 with 1 Axes>"
      ]
     },
     "metadata": {
      "needs_background": "light"
     },
     "output_type": "display_data"
    }
   ],
   "source": [
    "plt.scatter(X,Y)"
   ]
  },
  {
   "cell_type": "code",
   "execution_count": 30,
   "id": "6f2a52db",
   "metadata": {},
   "outputs": [],
   "source": [
    "lm=linear_model.LinearRegression()\n",
    "\n",
    "from sklearn.model_selection import train_test_split\n",
    "\n",
    "X_train, X_test, Y_train, Y_test = train_test_split(X, Y, test_size=0.3, random_state=34)"
   ]
  },
  {
   "cell_type": "code",
   "execution_count": 31,
   "id": "b8225d98",
   "metadata": {},
   "outputs": [
    {
     "data": {
      "text/plain": [
       "(210,)"
      ]
     },
     "execution_count": 31,
     "metadata": {},
     "output_type": "execute_result"
    }
   ],
   "source": [
    "X_train.shape"
   ]
  },
  {
   "cell_type": "code",
   "execution_count": 32,
   "id": "72e876ca",
   "metadata": {},
   "outputs": [
    {
     "data": {
      "text/plain": [
       "(210,)"
      ]
     },
     "execution_count": 32,
     "metadata": {},
     "output_type": "execute_result"
    }
   ],
   "source": [
    "Y_train.shape"
   ]
  },
  {
   "cell_type": "code",
   "execution_count": 37,
   "id": "f77b1f34",
   "metadata": {},
   "outputs": [],
   "source": [
    "lm=linear_model.LinearRegression()\n",
    "X_train= X_train.reshape(-1,1)\n",
    "Y_train= Y_train.reshape(-1,1)\n",
    "x_test = Y_test.reshape(-1,1)"
   ]
  },
  {
   "cell_type": "code",
   "execution_count": 38,
   "id": "162e8ddd",
   "metadata": {},
   "outputs": [
    {
     "data": {
      "text/plain": [
       "LinearRegression()"
      ]
     },
     "execution_count": 38,
     "metadata": {},
     "output_type": "execute_result"
    }
   ],
   "source": [
    "lm.fit(X_train,Y_train)"
   ]
  },
  {
   "cell_type": "code",
   "execution_count": 39,
   "id": "38304d5c",
   "metadata": {},
   "outputs": [
    {
     "data": {
      "text/plain": [
       "array([[4.65443418],\n",
       "       [4.63128409],\n",
       "       [4.65763516],\n",
       "       [4.65639463],\n",
       "       [4.65086214],\n",
       "       [4.65722027],\n",
       "       [4.64812443],\n",
       "       [4.63985423],\n",
       "       [4.65400702],\n",
       "       [4.65547113],\n",
       "       [4.65694598],\n",
       "       [4.65694873],\n",
       "       [4.65205277],\n",
       "       [4.6536379 ],\n",
       "       [4.65735949],\n",
       "       [4.65225953],\n",
       "       [4.65535851],\n",
       "       [4.65749732],\n",
       "       [4.65418924],\n",
       "       [4.64812443],\n",
       "       [4.65639463],\n",
       "       [4.65791083],\n",
       "       [4.65225953],\n",
       "       [4.65413039],\n",
       "       [4.6510638 ],\n",
       "       [4.64991631],\n",
       "       [4.65529194],\n",
       "       [4.65239737],\n",
       "       [4.65294871],\n",
       "       [4.64881361],\n",
       "       [4.65385444],\n",
       "       [4.65225953],\n",
       "       [4.65170818],\n",
       "       [4.65062217],\n",
       "       [4.65568973],\n",
       "       [4.65763516],\n",
       "       [4.65115684],\n",
       "       [4.657263  ],\n",
       "       [4.65262245],\n",
       "       [4.65727679],\n",
       "       [4.58954383],\n",
       "       [4.65315712],\n",
       "       [4.6501815 ],\n",
       "       [4.65002616],\n",
       "       [4.65157035],\n",
       "       [4.65294513],\n",
       "       [4.65722165],\n",
       "       [4.65405141],\n",
       "       [4.6495673 ],\n",
       "       [4.65682895],\n",
       "       [4.65225953],\n",
       "       [4.65570545],\n",
       "       [4.65584328],\n",
       "       [4.657773  ],\n",
       "       [4.65584328],\n",
       "       [4.65000163],\n",
       "       [4.65308655],\n",
       "       [4.65566782],\n",
       "       [4.6563752 ],\n",
       "       [4.65246146],\n",
       "       [4.65556761],\n",
       "       [4.65293135],\n",
       "       [4.65202438],\n",
       "       [4.64633255],\n",
       "       [4.65413039],\n",
       "       [4.64771092],\n",
       "       [4.65432708],\n",
       "       [4.65639463],\n",
       "       [4.65687706],\n",
       "       [4.65294871],\n",
       "       [4.65487843],\n",
       "       [4.64095692],\n",
       "       [4.65366588],\n",
       "       [4.65639463],\n",
       "       [4.65377573],\n",
       "       [4.65074333],\n",
       "       [4.64574909],\n",
       "       [4.64605688],\n",
       "       [4.65170818],\n",
       "       [4.65336222],\n",
       "       [4.65098564],\n",
       "       [4.65225953],\n",
       "       [4.65786948],\n",
       "       [4.65653247],\n",
       "       [4.65501626],\n",
       "       [4.65157035],\n",
       "       [4.65763516],\n",
       "       [4.65683571],\n",
       "       [4.64867578],\n",
       "       [4.6536379 ],\n",
       "       [4.65771786],\n",
       "       [4.65555038],\n",
       "       [4.65465789],\n",
       "       [4.65828299],\n",
       "       [4.65198386],\n",
       "       [4.65639463],\n",
       "       [4.65646837],\n",
       "       [4.65348628],\n",
       "       [4.65749732],\n",
       "       [4.65489635],\n",
       "       [4.65625652],\n",
       "       [4.65322439],\n",
       "       [4.64743524],\n",
       "       [4.65797975],\n",
       "       [4.64853794],\n",
       "       [4.657773  ],\n",
       "       [4.65271742],\n",
       "       [4.6525352 ],\n",
       "       [4.65611896],\n",
       "       [4.65826921],\n",
       "       [4.65770904],\n",
       "       [4.65127648],\n",
       "       [4.65184602],\n",
       "       [4.64776164],\n",
       "       [4.6551541 ],\n",
       "       [4.65657382],\n",
       "       [4.65215202],\n",
       "       [4.65829678],\n",
       "       [4.65377573],\n",
       "       [4.64634165],\n",
       "       [4.65115684],\n",
       "       [4.6525352 ],\n",
       "       [4.65150749],\n",
       "       [4.65391095],\n",
       "       [4.64977847],\n",
       "       [4.65281088],\n",
       "       [4.6558714 ],\n",
       "       [4.65143251],\n",
       "       [4.65286767],\n",
       "       [4.65618788],\n",
       "       [4.6551541 ],\n",
       "       [4.65586699],\n",
       "       [4.65019198],\n",
       "       [4.65639463],\n",
       "       [4.65350916],\n",
       "       [4.65584328],\n",
       "       [4.65225953],\n",
       "       [4.65474059],\n",
       "       [4.65225953],\n",
       "       [4.65350006],\n",
       "       [4.65157035],\n",
       "       [4.65351853],\n",
       "       [4.65474059],\n",
       "       [4.65839326],\n",
       "       [4.65156704],\n",
       "       [4.65046765],\n",
       "       [4.65224878],\n",
       "       [4.65817672],\n",
       "       [4.6525352 ],\n",
       "       [4.65487843],\n",
       "       [4.65432708],\n",
       "       [4.65163072],\n",
       "       [4.65290405],\n",
       "       [4.6517403 ],\n",
       "       [4.65804867],\n",
       "       [4.65751111],\n",
       "       [4.64619471],\n",
       "       [4.65767651],\n",
       "       [4.65522302],\n",
       "       [4.65578346],\n",
       "       [4.65570545],\n",
       "       [4.65625679],\n",
       "       [4.65222094],\n",
       "       [4.65707293],\n",
       "       [4.65015876],\n",
       "       [4.65405141],\n",
       "       [4.65791083],\n",
       "       [4.65798072],\n",
       "       [4.64991631],\n",
       "       [4.64890445],\n",
       "       [4.65350006],\n",
       "       [4.65639463],\n",
       "       [4.65533729],\n",
       "       [4.65099143],\n",
       "       [4.65410599],\n",
       "       [4.65347277],\n",
       "       [4.64867578],\n",
       "       [4.65673922],\n",
       "       [4.65832434],\n",
       "       [4.65019198],\n",
       "       [4.6530197 ],\n",
       "       [4.65109343],\n",
       "       [4.65542977],\n",
       "       [4.65506065],\n",
       "       [4.65694598],\n",
       "       [4.65653247],\n",
       "       [4.639833  ],\n",
       "       [4.65618788],\n",
       "       [4.65046765],\n",
       "       [4.65074319],\n",
       "       [4.65501626],\n",
       "       [4.6554601 ],\n",
       "       [4.65274995],\n",
       "       [4.6576903 ],\n",
       "       [4.65446492],\n",
       "       [4.65504383],\n",
       "       [4.65487843],\n",
       "       [4.65791083],\n",
       "       [4.6563865 ],\n",
       "       [4.65432708],\n",
       "       [4.65294871],\n",
       "       [4.65225953],\n",
       "       [4.65356898],\n",
       "       [4.65529194],\n",
       "       [4.65674212],\n",
       "       [4.65617409],\n",
       "       [4.65157062],\n",
       "       [4.63888937],\n",
       "       [4.6536379 ],\n",
       "       [4.65763516]])"
      ]
     },
     "execution_count": 39,
     "metadata": {},
     "output_type": "execute_result"
    }
   ],
   "source": [
    "lm.predict(X_train)"
   ]
  },
  {
   "cell_type": "code",
   "execution_count": 46,
   "id": "cc9a97bc",
   "metadata": {},
   "outputs": [
    {
     "data": {
      "text/plain": [
       "array([[4.65829678]])"
      ]
     },
     "execution_count": 46,
     "metadata": {},
     "output_type": "execute_result"
    }
   ],
   "source": [
    "lm.predict([[1200]])"
   ]
  },
  {
   "cell_type": "code",
   "execution_count": null,
   "id": "50630bea",
   "metadata": {},
   "outputs": [],
   "source": []
  }
 ],
 "metadata": {
  "kernelspec": {
   "display_name": "Python 3 (ipykernel)",
   "language": "python",
   "name": "python3"
  },
  "language_info": {
   "codemirror_mode": {
    "name": "ipython",
    "version": 3
   },
   "file_extension": ".py",
   "mimetype": "text/x-python",
   "name": "python",
   "nbconvert_exporter": "python",
   "pygments_lexer": "ipython3",
   "version": "3.9.6"
  }
 },
 "nbformat": 4,
 "nbformat_minor": 5
}
